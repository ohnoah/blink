{
 "cells": [
  {
   "cell_type": "code",
   "execution_count": 2,
   "metadata": {},
   "outputs": [
    {
     "name": "stdout",
     "output_type": "stream",
     "text": [
      "pygame 1.9.4\n",
      "Hello from the pygame community. https://www.pygame.org/contribute.html\n"
     ]
    }
   ],
   "source": [
    "import pygame, time\n",
    "\n",
    "class Background:\n",
    "    def __init__(self, imageFilePath, width, height):\n",
    "        self.background = pygame.transform.scale(pygame.image.load(imageFilePath),(width,height))\n",
    "        self.width = width\n",
    "        self.height = height\n",
    "        #scrolling position\n",
    "        self.xpos = width\n",
    "    def updateBackground(self, screen):\n",
    "        if self.xpos < 0:\n",
    "            self.xpos = self.width\n",
    "        \n",
    "        screen.blit(self.background, (self.xpos,0))\n",
    "        screen.blit(self.background, (self.xpos-self.width,0))\n",
    "        self.xpos -= 1\n",
    "    def resize(self,w,h):\n",
    "        self.xpos *= self.width/w\n",
    "        self.width = w\n",
    "        self.height = h\n",
    "        self.background = pygame.transform.scale(self.background, (w,h))\n",
    "\n",
    "charwidth = 100\n",
    "charheight = 50\n",
    "def main():\n",
    "    not_done = True\n",
    "    pygame.init()\n",
    "    screen = pygame.display.set_mode((900,300), pygame.RESIZABLE)\n",
    "    bg = Background(\"background.jpeg\", 900,300)\n",
    "    character = pygame.transform.scale(pygame.image.load(\"eye.jpeg\"), (charwidth,charheight))\n",
    "    while not_done:\n",
    "        try:\n",
    "            pygame.display.update()\n",
    "            arr = pygame.event.get()\n",
    "            for event in arr:\n",
    "                if event.type == pygame.QUIT:\n",
    "                    pygame.quit()\n",
    "                    not_done = False\n",
    "                    return\n",
    "                if event.type == pygame.VIDEORESIZE:\n",
    "                    screen = pygame.display.set_mode((event.w,event.h), pygame.RESIZABLE)\n",
    "                    bg.resize(event.w, event.h)\n",
    "            bg.updateBackground(screen)\n",
    "            pygame.draw.line(screen, (bg.xpos,0),(bg.xpos,bg.height), 4)\n",
    "            screen.blit(character,((bg.width-charwidth)/2,bg.height/2))\n",
    "            time.sleep(0.01)\n",
    "        except:\n",
    "            not_done = False\n",
    "            pygame.quit()\n",
    "            return \n",
    "main()"
   ]
  },
  {
   "cell_type": "code",
   "execution_count": 1,
   "metadata": {},
   "outputs": [
    {
     "name": "stdout",
     "output_type": "stream",
     "text": [
      "5\n"
     ]
    }
   ],
   "source": [
    "print(5)"
   ]
  },
  {
   "cell_type": "code",
   "execution_count": null,
   "metadata": {},
   "outputs": [],
   "source": []
  }
 ],
 "metadata": {
  "kernelspec": {
   "display_name": "Python 3",
   "language": "python",
   "name": "python3"
  },
  "language_info": {
   "codemirror_mode": {
    "name": "ipython",
    "version": 3
   },
   "file_extension": ".py",
   "mimetype": "text/x-python",
   "name": "python",
   "nbconvert_exporter": "python",
   "pygments_lexer": "ipython3",
   "version": "3.7.2"
  }
 },
 "nbformat": 4,
 "nbformat_minor": 2
}
